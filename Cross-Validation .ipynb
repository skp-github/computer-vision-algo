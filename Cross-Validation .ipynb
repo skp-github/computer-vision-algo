{
 "cells": [
  {
   "cell_type": "code",
   "execution_count": 1,
   "metadata": {},
   "outputs": [],
   "source": [
    "import pandas as pd\n",
    "import torch\n",
    "import numpy as np \n",
    "from sklearn.base import BaseEstimator, RegressorMixin\n",
    "from random import randrange \n",
    "from sklearn.model_selection import KFold"
   ]
  },
  {
   "cell_type": "code",
   "execution_count": 2,
   "metadata": {},
   "outputs": [
    {
     "name": "stdout",
     "output_type": "stream",
     "text": [
      "torch.Size([1503, 5]) torch.Size([1503, 1])\n",
      "tensor([-0.0258, -0.0108,  0.0169,  0.0122, -0.0061], dtype=torch.float64) tensor([0.0260], dtype=torch.float64)\n"
     ]
    }
   ],
   "source": [
    "df = pd.read_csv(\"dataset.csv\", names=['x1', 'x2', 'x3', 'x4', 'x5', 'y'], index_col=False)\n",
    "data = df[['x1', 'x2', 'x3', 'x4', 'x5']]\n",
    "target = df[['y']]\n",
    "\n",
    "X = torch.from_numpy(data.values).cpu()\n",
    "Y = torch.from_numpy(target.values).cpu()\n",
    "\n",
    "X /= X.norm(dim=0)\n",
    "Y /= Y.norm()\n",
    "\n",
    "print(X.shape, Y.shape)\n",
    "print(X[0], Y[0])"
   ]
  },
  {
   "cell_type": "code",
   "execution_count": 5,
   "metadata": {},
   "outputs": [],
   "source": [
    "class CrossValidationRegressor():\n",
    "    \n",
    "    def __init__(self, X, Y, iterations=1000, K=5):\n",
    "        self.X = X\n",
    "        self.Y = Y\n",
    "        self.I = iterations\n",
    "        self.K = K\n",
    "        \n",
    "    def fit(self, X, Y):\n",
    "        W = torch.randn((X.shape[1], 1), dtype=torch.double, requires_grad=True)\n",
    "        b = torch.randn(1, dtype=torch.double, requires_grad=True)\n",
    "        optimizer = torch.optim.SGD([W], lr=0.001)\n",
    "        for i in range(self.I):\n",
    "          optimizer.zero_grad()\n",
    "          term_1 = torch.sum(torch.pow((torch.matmul(X, W) + b) - Y, 2))\n",
    "          term_2 = torch.sum(torch.pow(W, 2))\n",
    "          cost = 0.5 * (term_1 + term_2)\n",
    "          cost.backward()\n",
    "          optimizer.step()\n",
    "#           if i % 50 == 0:\n",
    "#             print(\"Iteration: {}, Cost: {:.5f}\".format(i, cost))\n",
    "        \n",
    "        return [W,b]\n",
    "    \n",
    "    def mse(self, X, Y, W, bias):\n",
    "        pred = torch.matmul(X, W) + bias\n",
    "        diff = pred - Y \n",
    "        return torch.sum(diff * diff) / diff.numel()\n",
    "    \n",
    "    def cross_validation_error(self):\n",
    "        kf = KFold(n_splits=self.K)\n",
    "        error_list = []\n",
    "        for train_index, test_index in kf.split(self.X):\n",
    "            X_train, X_test = self.X[train_index], X[test_index]\n",
    "            Y_train, Y_test = self.Y[train_index], Y[test_index]\n",
    "            W,b = self.fit(X_train,Y_train)\n",
    "            error_list.append(self.mse(X_test, Y_test, W, b))\n",
    "        return sum(error_list)/len(error_list)"
   ]
  },
  {
   "cell_type": "code",
   "execution_count": 6,
   "metadata": {},
   "outputs": [
    {
     "name": "stdout",
     "output_type": "stream",
     "text": [
      "The Cross validation error for K=5 is : 1.0406776207084394 \n",
      "The Cross validation error for K=len(dataset) is : 0.9745352007170768 \n"
     ]
    }
   ],
   "source": [
    "model = CrossValidationRegressor(X,Y)\n",
    "print(\"The Cross validation error for K=5 is : {} \".format(model.cross_validation_error()))\n",
    "\n",
    "model = CrossValidationRegressor(X,Y, K=len(Y))\n",
    "print(\"The Cross validation error for K=len(dataset) is : {} \".format(model.cross_validation_error()))"
   ]
  },
  {
   "cell_type": "code",
   "execution_count": null,
   "metadata": {},
   "outputs": [],
   "source": []
  }
 ],
 "metadata": {
  "kernelspec": {
   "display_name": "Python 3",
   "language": "python",
   "name": "python3"
  },
  "language_info": {
   "codemirror_mode": {
    "name": "ipython",
    "version": 3
   },
   "file_extension": ".py",
   "mimetype": "text/x-python",
   "name": "python",
   "nbconvert_exporter": "python",
   "pygments_lexer": "ipython3",
   "version": "3.7.3"
  }
 },
 "nbformat": 4,
 "nbformat_minor": 2
}
